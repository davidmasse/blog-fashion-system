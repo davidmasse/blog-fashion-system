{
 "cells": [
  {
   "cell_type": "code",
   "execution_count": 1,
   "metadata": {},
   "outputs": [],
   "source": [
    "import pandas as pd\n",
    "import re\n",
    "import numpy as np\n",
    "\n",
    "from sklearn.multiclass import OneVsRestClassifier\n",
    "from sklearn.linear_model import LogisticRegression, LinearRegression\n",
    "from sklearn.model_selection import train_test_split\n",
    "from sklearn.naive_bayes import GaussianNB, MultinomialNB, BernoulliNB\n",
    "from sklearn.metrics import accuracy_score, f1_score, roc_curve, auc\n",
    "from sklearn.feature_extraction.text import CountVectorizer, TfidfVectorizer\n",
    "from nltk.tokenize import word_tokenize, WhitespaceTokenizer, TweetTokenizer\n",
    "\n",
    "np.random.seed(17)"
   ]
  },
  {
   "cell_type": "code",
   "execution_count": 2,
   "metadata": {},
   "outputs": [],
   "source": [
    "df = pd.read_excel('source.xlsx')\n",
    "x_values = df[['house', 'text']]\n",
    "y_values = df['season']\n",
    "xtrain, xtest, ytrain, ytest = train_test_split(x_values, y_values)"
   ]
  },
  {
   "cell_type": "code",
   "execution_count": 3,
   "metadata": {},
   "outputs": [],
   "source": [
    "def clean_article(article):\n",
    "    art = re.sub(\"[^A-Za-z0-9' ]\", '', article)\n",
    "    art2 = re.sub(\"[( ' )( ')(' )]\", ' ', art)\n",
    "    art3 = re.sub('\\s[A-Za-z]\\s', ' ', art2)\n",
    "    return art3.lower()"
   ]
  },
  {
   "cell_type": "code",
   "execution_count": 4,
   "metadata": {},
   "outputs": [],
   "source": [
    "bow = CountVectorizer(stop_words = 'english', preprocessor = clean_article, tokenizer = TweetTokenizer().tokenize,\n",
    "                      ngram_range=(1,2), max_features = 1000, max_df = 1.0, min_df = 1, binary = False)\n",
    "training_data = bow.fit_transform(xtrain.text)\n",
    "test_data = bow.transform(xtest.text)"
   ]
  },
  {
   "cell_type": "code",
   "execution_count": 5,
   "metadata": {},
   "outputs": [
    {
     "data": {
      "text/plain": [
       "(33, 1000)"
      ]
     },
     "execution_count": 5,
     "metadata": {},
     "output_type": "execute_result"
    }
   ],
   "source": [
    "dftrain = pd.DataFrame(training_data.toarray())\n",
    "dftrain.columns = bow.get_feature_names()\n",
    "dftest = pd.DataFrame(test_data.toarray())\n",
    "dftest.columns = bow.get_feature_names()\n",
    "dftrain.shape"
   ]
  },
  {
   "cell_type": "code",
   "execution_count": 6,
   "metadata": {},
   "outputs": [
    {
     "name": "stdout",
     "output_type": "stream",
     "text": [
      "accuracy:  0.09090909090909091\n"
     ]
    }
   ],
   "source": [
    "clf = MultinomialNB()\n",
    "model = clf.fit(dftrain, ytrain)\n",
    "preds = model.predict(dftest)\n",
    "accuracy = accuracy_score(ytest, preds)\n",
    "print('accuracy: ', accuracy)"
   ]
  },
  {
   "cell_type": "code",
   "execution_count": 7,
   "metadata": {},
   "outputs": [],
   "source": [
    "d = {'targets': ytest.values, 'predictions': preds}\n",
    "outs = pd.DataFrame(data = d)"
   ]
  },
  {
   "cell_type": "code",
   "execution_count": 8,
   "metadata": {},
   "outputs": [],
   "source": [
    "l=[]\n",
    "for i in range(len(outs)):\n",
    "    if outs.targets.iloc[i][0:4] == outs.predictions.iloc[i][0:4]:\n",
    "        l.append(1)\n",
    "    else:\n",
    "        l.append(0)\n",
    "outs['right_year'] = l"
   ]
  },
  {
   "cell_type": "code",
   "execution_count": 9,
   "metadata": {},
   "outputs": [
    {
     "data": {
      "text/html": [
       "<div>\n",
       "<style scoped>\n",
       "    .dataframe tbody tr th:only-of-type {\n",
       "        vertical-align: middle;\n",
       "    }\n",
       "\n",
       "    .dataframe tbody tr th {\n",
       "        vertical-align: top;\n",
       "    }\n",
       "\n",
       "    .dataframe thead th {\n",
       "        text-align: right;\n",
       "    }\n",
       "</style>\n",
       "<table border=\"1\" class=\"dataframe\">\n",
       "  <thead>\n",
       "    <tr style=\"text-align: right;\">\n",
       "      <th></th>\n",
       "      <th>targets</th>\n",
       "      <th>predictions</th>\n",
       "      <th>right_year</th>\n",
       "    </tr>\n",
       "  </thead>\n",
       "  <tbody>\n",
       "    <tr>\n",
       "      <th>0</th>\n",
       "      <td>2018S</td>\n",
       "      <td>2018F</td>\n",
       "      <td>1</td>\n",
       "    </tr>\n",
       "    <tr>\n",
       "      <th>1</th>\n",
       "      <td>2010F</td>\n",
       "      <td>2018F</td>\n",
       "      <td>0</td>\n",
       "    </tr>\n",
       "    <tr>\n",
       "      <th>2</th>\n",
       "      <td>2010S</td>\n",
       "      <td>2018F</td>\n",
       "      <td>0</td>\n",
       "    </tr>\n",
       "    <tr>\n",
       "      <th>3</th>\n",
       "      <td>2010S</td>\n",
       "      <td>2018S</td>\n",
       "      <td>0</td>\n",
       "    </tr>\n",
       "    <tr>\n",
       "      <th>4</th>\n",
       "      <td>2010S</td>\n",
       "      <td>2010F</td>\n",
       "      <td>1</td>\n",
       "    </tr>\n",
       "    <tr>\n",
       "      <th>5</th>\n",
       "      <td>2010S</td>\n",
       "      <td>2010F</td>\n",
       "      <td>1</td>\n",
       "    </tr>\n",
       "    <tr>\n",
       "      <th>6</th>\n",
       "      <td>2018F</td>\n",
       "      <td>2018S</td>\n",
       "      <td>1</td>\n",
       "    </tr>\n",
       "    <tr>\n",
       "      <th>7</th>\n",
       "      <td>2010S</td>\n",
       "      <td>2010F</td>\n",
       "      <td>1</td>\n",
       "    </tr>\n",
       "    <tr>\n",
       "      <th>8</th>\n",
       "      <td>2010S</td>\n",
       "      <td>2010F</td>\n",
       "      <td>1</td>\n",
       "    </tr>\n",
       "    <tr>\n",
       "      <th>9</th>\n",
       "      <td>2018S</td>\n",
       "      <td>2018S</td>\n",
       "      <td>1</td>\n",
       "    </tr>\n",
       "    <tr>\n",
       "      <th>10</th>\n",
       "      <td>2018F</td>\n",
       "      <td>2018S</td>\n",
       "      <td>1</td>\n",
       "    </tr>\n",
       "  </tbody>\n",
       "</table>\n",
       "</div>"
      ],
      "text/plain": [
       "   targets predictions  right_year\n",
       "0    2018S       2018F           1\n",
       "1    2010F       2018F           0\n",
       "2    2010S       2018F           0\n",
       "3    2010S       2018S           0\n",
       "4    2010S       2010F           1\n",
       "5    2010S       2010F           1\n",
       "6    2018F       2018S           1\n",
       "7    2010S       2010F           1\n",
       "8    2010S       2010F           1\n",
       "9    2018S       2018S           1\n",
       "10   2018F       2018S           1"
      ]
     },
     "execution_count": 9,
     "metadata": {},
     "output_type": "execute_result"
    }
   ],
   "source": [
    "outs"
   ]
  },
  {
   "cell_type": "code",
   "execution_count": 10,
   "metadata": {},
   "outputs": [
    {
     "name": "stdout",
     "output_type": "stream",
     "text": [
      "right-year accuracy:  0.7272727272727273\n"
     ]
    }
   ],
   "source": [
    "acc = sum(outs.right_year)/len(outs.right_year)\n",
    "print('right-year accuracy: ', acc)"
   ]
  },
  {
   "cell_type": "code",
   "execution_count": 11,
   "metadata": {},
   "outputs": [],
   "source": [
    "df = pd.read_excel('source.xlsx')\n",
    "x_values = df[['house', 'text', 'season']]\n",
    "y_values = df['this_year']\n",
    "xtrain, xtest, ytrain, ytest = train_test_split(x_values, y_values)"
   ]
  },
  {
   "cell_type": "code",
   "execution_count": 12,
   "metadata": {},
   "outputs": [],
   "source": [
    "bow = CountVectorizer(stop_words = 'english', preprocessor = clean_article, tokenizer = TweetTokenizer().tokenize,\n",
    "                      ngram_range=(1,2), max_features = 1000, max_df = 1.0, min_df = 1, binary = False)\n",
    "training_data = bow.fit_transform(xtrain.text)\n",
    "test_data = bow.transform(xtest.text)"
   ]
  },
  {
   "cell_type": "code",
   "execution_count": 13,
   "metadata": {},
   "outputs": [
    {
     "data": {
      "text/plain": [
       "(33, 1000)"
      ]
     },
     "execution_count": 13,
     "metadata": {},
     "output_type": "execute_result"
    }
   ],
   "source": [
    "dftrain = pd.DataFrame(training_data.toarray())\n",
    "dftrain.columns = bow.get_feature_names()\n",
    "dftest = pd.DataFrame(test_data.toarray())\n",
    "dftest.columns = bow.get_feature_names()\n",
    "dftrain.shape"
   ]
  },
  {
   "cell_type": "code",
   "execution_count": 14,
   "metadata": {},
   "outputs": [
    {
     "name": "stdout",
     "output_type": "stream",
     "text": [
      "accuracy:  0.8181818181818182\n"
     ]
    }
   ],
   "source": [
    "clf = MultinomialNB()\n",
    "model = clf.fit(dftrain, ytrain)\n",
    "preds = model.predict(dftest)\n",
    "accuracy = accuracy_score(ytest, preds)\n",
    "print('accuracy: ', accuracy)"
   ]
  },
  {
   "cell_type": "code",
   "execution_count": 15,
   "metadata": {},
   "outputs": [],
   "source": [
    "feature_names = np.array(list(dftrain.columns.values))\n",
    "n=20\n",
    "coefs_with_fns = sorted(zip(model.coef_[0], feature_names))\n",
    "top = list(zip(coefs_with_fns[:n], coefs_with_fns[:-(n + 1):-1]))"
   ]
  },
  {
   "cell_type": "code",
   "execution_count": 17,
   "metadata": {},
   "outputs": [
    {
     "name": "stdout",
     "output_type": "stream",
     "text": [
      "Stored 'table1' (DataFrame)\n"
     ]
    },
    {
     "data": {
      "text/html": [
       "<div>\n",
       "<style scoped>\n",
       "    .dataframe tbody tr th:only-of-type {\n",
       "        vertical-align: middle;\n",
       "    }\n",
       "\n",
       "    .dataframe tbody tr th {\n",
       "        vertical-align: top;\n",
       "    }\n",
       "\n",
       "    .dataframe thead th {\n",
       "        text-align: right;\n",
       "    }\n",
       "</style>\n",
       "<table border=\"1\" class=\"dataframe\">\n",
       "  <thead>\n",
       "    <tr style=\"text-align: right;\">\n",
       "      <th></th>\n",
       "      <th>informative for 2010</th>\n",
       "      <th>coefficient for 2010</th>\n",
       "      <th>informative for 2018</th>\n",
       "      <th>coefficient for 2018</th>\n",
       "    </tr>\n",
       "  </thead>\n",
       "  <tbody>\n",
       "    <tr>\n",
       "      <th>0</th>\n",
       "      <td>applied</td>\n",
       "      <td>-8.094073</td>\n",
       "      <td>fashion</td>\n",
       "      <td>-4.628337</td>\n",
       "    </tr>\n",
       "    <tr>\n",
       "      <th>1</th>\n",
       "      <td>army</td>\n",
       "      <td>-8.094073</td>\n",
       "      <td>like</td>\n",
       "      <td>-5.049551</td>\n",
       "    </tr>\n",
       "    <tr>\n",
       "      <th>2</th>\n",
       "      <td>balanced</td>\n",
       "      <td>-8.094073</td>\n",
       "      <td>collection</td>\n",
       "      <td>-5.098341</td>\n",
       "    </tr>\n",
       "    <tr>\n",
       "      <th>3</th>\n",
       "      <td>barely</td>\n",
       "      <td>-8.094073</td>\n",
       "      <td>said</td>\n",
       "      <td>-5.149634</td>\n",
       "    </tr>\n",
       "    <tr>\n",
       "      <th>4</th>\n",
       "      <td>basket</td>\n",
       "      <td>-8.094073</td>\n",
       "      <td>clothes</td>\n",
       "      <td>-5.149634</td>\n",
       "    </tr>\n",
       "    <tr>\n",
       "      <th>5</th>\n",
       "      <td>beach</td>\n",
       "      <td>-8.094073</td>\n",
       "      <td>time</td>\n",
       "      <td>-5.386023</td>\n",
       "    </tr>\n",
       "    <tr>\n",
       "      <th>6</th>\n",
       "      <td>belongs</td>\n",
       "      <td>-8.094073</td>\n",
       "      <td>way</td>\n",
       "      <td>-5.455016</td>\n",
       "    </tr>\n",
       "    <tr>\n",
       "      <th>7</th>\n",
       "      <td>brain</td>\n",
       "      <td>-8.094073</td>\n",
       "      <td>people</td>\n",
       "      <td>-5.455016</td>\n",
       "    </tr>\n",
       "    <tr>\n",
       "      <th>8</th>\n",
       "      <td>brown</td>\n",
       "      <td>-8.094073</td>\n",
       "      <td>going</td>\n",
       "      <td>-5.455016</td>\n",
       "    </tr>\n",
       "    <tr>\n",
       "      <th>9</th>\n",
       "      <td>business</td>\n",
       "      <td>-8.094073</td>\n",
       "      <td>theres</td>\n",
       "      <td>-5.609166</td>\n",
       "    </tr>\n",
       "    <tr>\n",
       "      <th>10</th>\n",
       "      <td>businesslike</td>\n",
       "      <td>-8.094073</td>\n",
       "      <td>season</td>\n",
       "      <td>-5.609166</td>\n",
       "    </tr>\n",
       "    <tr>\n",
       "      <th>11</th>\n",
       "      <td>buyers</td>\n",
       "      <td>-8.094073</td>\n",
       "      <td>make</td>\n",
       "      <td>-5.609166</td>\n",
       "    </tr>\n",
       "    <tr>\n",
       "      <th>12</th>\n",
       "      <td>calm</td>\n",
       "      <td>-8.094073</td>\n",
       "      <td>look</td>\n",
       "      <td>-5.609166</td>\n",
       "    </tr>\n",
       "    <tr>\n",
       "      <th>13</th>\n",
       "      <td>canvas</td>\n",
       "      <td>-8.094073</td>\n",
       "      <td>lagerfeld</td>\n",
       "      <td>-5.609166</td>\n",
       "    </tr>\n",
       "    <tr>\n",
       "      <th>14</th>\n",
       "      <td>caramel</td>\n",
       "      <td>-8.094073</td>\n",
       "      <td>designers</td>\n",
       "      <td>-5.609166</td>\n",
       "    </tr>\n",
       "    <tr>\n",
       "      <th>15</th>\n",
       "      <td>career</td>\n",
       "      <td>-8.094073</td>\n",
       "      <td>coats</td>\n",
       "      <td>-5.609166</td>\n",
       "    </tr>\n",
       "    <tr>\n",
       "      <th>16</th>\n",
       "      <td>cashmere</td>\n",
       "      <td>-8.094073</td>\n",
       "      <td>world</td>\n",
       "      <td>-5.696178</td>\n",
       "    </tr>\n",
       "    <tr>\n",
       "      <th>17</th>\n",
       "      <td>caught</td>\n",
       "      <td>-8.094073</td>\n",
       "      <td>leather</td>\n",
       "      <td>-5.696178</td>\n",
       "    </tr>\n",
       "    <tr>\n",
       "      <th>18</th>\n",
       "      <td>chiffons</td>\n",
       "      <td>-8.094073</td>\n",
       "      <td>gvasalia</td>\n",
       "      <td>-5.696178</td>\n",
       "    </tr>\n",
       "    <tr>\n",
       "      <th>19</th>\n",
       "      <td>classicism</td>\n",
       "      <td>-8.094073</td>\n",
       "      <td>creative</td>\n",
       "      <td>-5.696178</td>\n",
       "    </tr>\n",
       "  </tbody>\n",
       "</table>\n",
       "</div>"
      ],
      "text/plain": [
       "   informative for 2010  coefficient for 2010 informative for 2018  \\\n",
       "0               applied             -8.094073              fashion   \n",
       "1                  army             -8.094073                 like   \n",
       "2              balanced             -8.094073           collection   \n",
       "3                barely             -8.094073                 said   \n",
       "4                basket             -8.094073              clothes   \n",
       "5                 beach             -8.094073                 time   \n",
       "6               belongs             -8.094073                  way   \n",
       "7                 brain             -8.094073               people   \n",
       "8                 brown             -8.094073                going   \n",
       "9              business             -8.094073               theres   \n",
       "10         businesslike             -8.094073               season   \n",
       "11               buyers             -8.094073                 make   \n",
       "12                 calm             -8.094073                 look   \n",
       "13               canvas             -8.094073            lagerfeld   \n",
       "14              caramel             -8.094073            designers   \n",
       "15               career             -8.094073                coats   \n",
       "16             cashmere             -8.094073                world   \n",
       "17               caught             -8.094073              leather   \n",
       "18             chiffons             -8.094073             gvasalia   \n",
       "19           classicism             -8.094073             creative   \n",
       "\n",
       "    coefficient for 2018  \n",
       "0              -4.628337  \n",
       "1              -5.049551  \n",
       "2              -5.098341  \n",
       "3              -5.149634  \n",
       "4              -5.149634  \n",
       "5              -5.386023  \n",
       "6              -5.455016  \n",
       "7              -5.455016  \n",
       "8              -5.455016  \n",
       "9              -5.609166  \n",
       "10             -5.609166  \n",
       "11             -5.609166  \n",
       "12             -5.609166  \n",
       "13             -5.609166  \n",
       "14             -5.609166  \n",
       "15             -5.609166  \n",
       "16             -5.696178  \n",
       "17             -5.696178  \n",
       "18             -5.696178  \n",
       "19             -5.696178  "
      ]
     },
     "execution_count": 17,
     "metadata": {},
     "output_type": "execute_result"
    }
   ],
   "source": [
    "table1 = pd.DataFrame(columns=['informative for 2010', 'coefficient for 2010', \n",
    "                               'informative for 2018', 'coefficient for 2018'])\n",
    "for i in top:\n",
    "    table1 = table1.append({'informative for 2010': i[0][1], 'coefficient for 2010': i[0][0],\n",
    "                           'informative for 2018': i[1][1], 'coefficient for 2018': i[1][0]}, ignore_index=True)\n",
    "\n",
    "\n",
    "%store table1\n",
    "table1"
   ]
  },
  {
   "cell_type": "code",
   "execution_count": null,
   "metadata": {},
   "outputs": [],
   "source": []
  }
 ],
 "metadata": {
  "kernelspec": {
   "display_name": "Python 3",
   "language": "python",
   "name": "python3"
  },
  "language_info": {
   "codemirror_mode": {
    "name": "ipython",
    "version": 3
   },
   "file_extension": ".py",
   "mimetype": "text/x-python",
   "name": "python",
   "nbconvert_exporter": "python",
   "pygments_lexer": "ipython3",
   "version": "3.6.5"
  }
 },
 "nbformat": 4,
 "nbformat_minor": 2
}
